{
  "nbformat": 4,
  "nbformat_minor": 0,
  "metadata": {
    "colab": {
      "provenance": []
    },
    "kernelspec": {
      "name": "python3",
      "display_name": "Python 3"
    },
    "language_info": {
      "name": "python"
    }
  },
  "cells": [
    {
      "cell_type": "code",
      "execution_count": 1,
      "metadata": {
        "id": "wNC7sQ0bhSWu"
      },
      "outputs": [],
      "source": [
        "import numpy as np\n",
        "import pandas as pd\n",
        "import matplotlib.pyplot as plt\n",
        "from sklearn.preprocessing import MinMaxScaler\n",
        "from tensorflow.keras.models import Sequential\n",
        "from tensorflow.keras.layers import LSTM,Dropout,Dense"
      ]
    },
    {
      "cell_type": "code",
      "source": [
        "dataset_train = pd.read_csv('Google_Stock_Price_Train.csv')\n",
        "training_set = dataset_train.iloc[:, 1:2].values\n",
        "\n",
        "sc = MinMaxScaler(feature_range = (0, 1))\n",
        "training_set_scaled = sc.fit_transform(training_set)\n",
        "\n",
        "X_train = []\n",
        "y_train = []\n",
        "\n",
        "for i in range(60, 1258):\n",
        "    X_train.append(training_set_scaled[i-60:i, 0])\n",
        "\n",
        "    y_train.append(training_set_scaled[i, 0])"
      ],
      "metadata": {
        "id": "jwvGQasChtvs"
      },
      "execution_count": 3,
      "outputs": []
    },
    {
      "cell_type": "code",
      "source": [
        "X_train, y_train = np.array(X_train), np.array(y_train)\n",
        "X_train = np.reshape(X_train, (X_train.shape[0], X_train.shape[1], 1))"
      ],
      "metadata": {
        "id": "gBbCR8vOh7Ln"
      },
      "execution_count": 4,
      "outputs": []
    },
    {
      "cell_type": "code",
      "source": [
        "regressor = Sequential()\n",
        "\n",
        "regressor.add(LSTM(units = 50, return_sequences = True, input_shape = (X_train.shape[1], 1)))\n",
        "regressor.add(Dropout(0.2))\n",
        "\n",
        "regressor.add(LSTM(units = 50, return_sequences = True))\n",
        "regressor.add(Dropout(0.2))\n",
        "\n",
        "regressor.add(LSTM(units = 50, return_sequences = True))\n",
        "regressor.add(Dropout(0.2))\n",
        "\n",
        "regressor.add(LSTM(units = 50))\n",
        "regressor.add(Dropout(0.2))\n",
        "\n",
        "regressor.add(Dense(units = 1))\n",
        "\n",
        "regressor.compile(optimizer = 'adam', loss = 'mean_squared_error')\n",
        "\n",
        "print(regressor.summary())"
      ],
      "metadata": {
        "colab": {
          "base_uri": "https://localhost:8080/"
        },
        "id": "oNY2sLbdiAZa",
        "outputId": "e7f3b1fd-6115-40d6-bb0d-f59127550fae"
      },
      "execution_count": 5,
      "outputs": [
        {
          "output_type": "stream",
          "name": "stdout",
          "text": [
            "Model: \"sequential\"\n",
            "_________________________________________________________________\n",
            " Layer (type)                Output Shape              Param #   \n",
            "=================================================================\n",
            " lstm (LSTM)                 (None, 60, 50)            10400     \n",
            "                                                                 \n",
            " dropout (Dropout)           (None, 60, 50)            0         \n",
            "                                                                 \n",
            " lstm_1 (LSTM)               (None, 60, 50)            20200     \n",
            "                                                                 \n",
            " dropout_1 (Dropout)         (None, 60, 50)            0         \n",
            "                                                                 \n",
            " lstm_2 (LSTM)               (None, 60, 50)            20200     \n",
            "                                                                 \n",
            " dropout_2 (Dropout)         (None, 60, 50)            0         \n",
            "                                                                 \n",
            " lstm_3 (LSTM)               (None, 50)                20200     \n",
            "                                                                 \n",
            " dropout_3 (Dropout)         (None, 50)                0         \n",
            "                                                                 \n",
            " dense (Dense)               (None, 1)                 51        \n",
            "                                                                 \n",
            "=================================================================\n",
            "Total params: 71051 (277.54 KB)\n",
            "Trainable params: 71051 (277.54 KB)\n",
            "Non-trainable params: 0 (0.00 Byte)\n",
            "_________________________________________________________________\n",
            "None\n"
          ]
        }
      ]
    },
    {
      "cell_type": "code",
      "source": [
        "regressor.fit(X_train, y_train, epochs = 100, batch_size = 32)"
      ],
      "metadata": {
        "colab": {
          "base_uri": "https://localhost:8080/"
        },
        "id": "26Pvzwp8iH-y",
        "outputId": "694f2818-c66e-4e7a-feac-d5204b78e6e0"
      },
      "execution_count": 6,
      "outputs": [
        {
          "output_type": "stream",
          "name": "stdout",
          "text": [
            "Epoch 1/100\n",
            "38/38 [==============================] - 12s 105ms/step - loss: 0.0383\n",
            "Epoch 2/100\n",
            "38/38 [==============================] - 5s 120ms/step - loss: 0.0062\n",
            "Epoch 3/100\n",
            "38/38 [==============================] - 4s 103ms/step - loss: 0.0052\n",
            "Epoch 4/100\n",
            "38/38 [==============================] - 4s 99ms/step - loss: 0.0049\n",
            "Epoch 5/100\n",
            "38/38 [==============================] - 4s 114ms/step - loss: 0.0049\n",
            "Epoch 6/100\n",
            "38/38 [==============================] - 4s 110ms/step - loss: 0.0052\n",
            "Epoch 7/100\n",
            "38/38 [==============================] - 4s 97ms/step - loss: 0.0050\n",
            "Epoch 8/100\n",
            "38/38 [==============================] - 4s 105ms/step - loss: 0.0043\n",
            "Epoch 9/100\n",
            "38/38 [==============================] - 4s 117ms/step - loss: 0.0045\n",
            "Epoch 10/100\n",
            "38/38 [==============================] - 4s 99ms/step - loss: 0.0046\n",
            "Epoch 11/100\n",
            "38/38 [==============================] - 4s 117ms/step - loss: 0.0041\n",
            "Epoch 12/100\n",
            "38/38 [==============================] - 4s 116ms/step - loss: 0.0040\n",
            "Epoch 13/100\n",
            "38/38 [==============================] - 4s 98ms/step - loss: 0.0040\n",
            "Epoch 14/100\n",
            "38/38 [==============================] - 4s 97ms/step - loss: 0.0040\n",
            "Epoch 15/100\n",
            "38/38 [==============================] - 5s 125ms/step - loss: 0.0038\n",
            "Epoch 16/100\n",
            "38/38 [==============================] - 4s 99ms/step - loss: 0.0038\n",
            "Epoch 17/100\n",
            "38/38 [==============================] - 4s 99ms/step - loss: 0.0042\n",
            "Epoch 18/100\n",
            "38/38 [==============================] - 5s 126ms/step - loss: 0.0037\n",
            "Epoch 19/100\n",
            "38/38 [==============================] - 4s 99ms/step - loss: 0.0034\n",
            "Epoch 20/100\n",
            "38/38 [==============================] - 4s 98ms/step - loss: 0.0035\n",
            "Epoch 21/100\n",
            "38/38 [==============================] - 5s 127ms/step - loss: 0.0037\n",
            "Epoch 22/100\n",
            "38/38 [==============================] - 4s 99ms/step - loss: 0.0040\n",
            "Epoch 23/100\n",
            "38/38 [==============================] - 4s 99ms/step - loss: 0.0031\n",
            "Epoch 24/100\n",
            "38/38 [==============================] - 5s 127ms/step - loss: 0.0037\n",
            "Epoch 25/100\n",
            "38/38 [==============================] - 4s 98ms/step - loss: 0.0030\n",
            "Epoch 26/100\n",
            "38/38 [==============================] - 4s 99ms/step - loss: 0.0030\n",
            "Epoch 27/100\n",
            "38/38 [==============================] - 5s 125ms/step - loss: 0.0029\n",
            "Epoch 28/100\n",
            "38/38 [==============================] - 4s 98ms/step - loss: 0.0029\n",
            "Epoch 29/100\n",
            "38/38 [==============================] - 4s 99ms/step - loss: 0.0030\n",
            "Epoch 30/100\n",
            "38/38 [==============================] - 5s 127ms/step - loss: 0.0032\n",
            "Epoch 31/100\n",
            "38/38 [==============================] - 4s 97ms/step - loss: 0.0032\n",
            "Epoch 32/100\n",
            "38/38 [==============================] - 4s 97ms/step - loss: 0.0031\n",
            "Epoch 33/100\n",
            "38/38 [==============================] - 5s 126ms/step - loss: 0.0028\n",
            "Epoch 34/100\n",
            "38/38 [==============================] - 4s 99ms/step - loss: 0.0026\n",
            "Epoch 35/100\n",
            "38/38 [==============================] - 4s 99ms/step - loss: 0.0029\n",
            "Epoch 36/100\n",
            "38/38 [==============================] - 5s 120ms/step - loss: 0.0028\n",
            "Epoch 37/100\n",
            "38/38 [==============================] - 4s 103ms/step - loss: 0.0027\n",
            "Epoch 38/100\n",
            "38/38 [==============================] - 4s 98ms/step - loss: 0.0029\n",
            "Epoch 39/100\n",
            "38/38 [==============================] - 4s 113ms/step - loss: 0.0024\n",
            "Epoch 40/100\n",
            "38/38 [==============================] - 4s 110ms/step - loss: 0.0030\n",
            "Epoch 41/100\n",
            "38/38 [==============================] - 4s 99ms/step - loss: 0.0033\n",
            "Epoch 42/100\n",
            "38/38 [==============================] - 4s 109ms/step - loss: 0.0026\n",
            "Epoch 43/100\n",
            "38/38 [==============================] - 4s 115ms/step - loss: 0.0029\n",
            "Epoch 44/100\n",
            "38/38 [==============================] - 4s 101ms/step - loss: 0.0025\n",
            "Epoch 45/100\n",
            "38/38 [==============================] - 4s 103ms/step - loss: 0.0025\n",
            "Epoch 46/100\n",
            "38/38 [==============================] - 5s 121ms/step - loss: 0.0021\n",
            "Epoch 47/100\n",
            "38/38 [==============================] - 4s 99ms/step - loss: 0.0023\n",
            "Epoch 48/100\n",
            "38/38 [==============================] - 4s 99ms/step - loss: 0.0025\n",
            "Epoch 49/100\n",
            "38/38 [==============================] - 5s 125ms/step - loss: 0.0026\n",
            "Epoch 50/100\n",
            "38/38 [==============================] - 4s 98ms/step - loss: 0.0026\n",
            "Epoch 51/100\n",
            "38/38 [==============================] - 4s 98ms/step - loss: 0.0024\n",
            "Epoch 52/100\n",
            "38/38 [==============================] - 5s 127ms/step - loss: 0.0021\n",
            "Epoch 53/100\n",
            "38/38 [==============================] - 4s 98ms/step - loss: 0.0021\n",
            "Epoch 54/100\n",
            "38/38 [==============================] - 4s 99ms/step - loss: 0.0023\n",
            "Epoch 55/100\n",
            "38/38 [==============================] - 5s 128ms/step - loss: 0.0023\n",
            "Epoch 56/100\n",
            "38/38 [==============================] - 4s 98ms/step - loss: 0.0022\n",
            "Epoch 57/100\n",
            "38/38 [==============================] - 4s 99ms/step - loss: 0.0021\n",
            "Epoch 58/100\n",
            "38/38 [==============================] - 5s 125ms/step - loss: 0.0018\n",
            "Epoch 59/100\n",
            "38/38 [==============================] - 4s 98ms/step - loss: 0.0019\n",
            "Epoch 60/100\n",
            "38/38 [==============================] - 4s 98ms/step - loss: 0.0021\n",
            "Epoch 61/100\n",
            "38/38 [==============================] - 5s 125ms/step - loss: 0.0023\n",
            "Epoch 62/100\n",
            "38/38 [==============================] - 4s 98ms/step - loss: 0.0020\n",
            "Epoch 63/100\n",
            "38/38 [==============================] - 4s 98ms/step - loss: 0.0018\n",
            "Epoch 64/100\n",
            "38/38 [==============================] - 5s 125ms/step - loss: 0.0020\n",
            "Epoch 65/100\n",
            "38/38 [==============================] - 4s 99ms/step - loss: 0.0019\n",
            "Epoch 66/100\n",
            "38/38 [==============================] - 4s 97ms/step - loss: 0.0020\n",
            "Epoch 67/100\n",
            "38/38 [==============================] - 4s 118ms/step - loss: 0.0022\n",
            "Epoch 68/100\n",
            "38/38 [==============================] - 4s 105ms/step - loss: 0.0018\n",
            "Epoch 69/100\n",
            "38/38 [==============================] - 4s 98ms/step - loss: 0.0019\n",
            "Epoch 70/100\n",
            "38/38 [==============================] - 4s 113ms/step - loss: 0.0017\n",
            "Epoch 71/100\n",
            "38/38 [==============================] - 4s 112ms/step - loss: 0.0019\n",
            "Epoch 72/100\n",
            "38/38 [==============================] - 4s 98ms/step - loss: 0.0019\n",
            "Epoch 73/100\n",
            "38/38 [==============================] - 4s 104ms/step - loss: 0.0018\n",
            "Epoch 74/100\n",
            "38/38 [==============================] - 5s 118ms/step - loss: 0.0020\n",
            "Epoch 75/100\n",
            "38/38 [==============================] - 4s 98ms/step - loss: 0.0019\n",
            "Epoch 76/100\n",
            "38/38 [==============================] - 4s 98ms/step - loss: 0.0017\n",
            "Epoch 77/100\n",
            "38/38 [==============================] - 5s 125ms/step - loss: 0.0019\n",
            "Epoch 78/100\n",
            "38/38 [==============================] - 4s 99ms/step - loss: 0.0017\n",
            "Epoch 79/100\n",
            "38/38 [==============================] - 4s 97ms/step - loss: 0.0016\n",
            "Epoch 80/100\n",
            "38/38 [==============================] - 5s 127ms/step - loss: 0.0018\n",
            "Epoch 81/100\n",
            "38/38 [==============================] - 4s 100ms/step - loss: 0.0018\n",
            "Epoch 82/100\n",
            "38/38 [==============================] - 4s 100ms/step - loss: 0.0018\n",
            "Epoch 83/100\n",
            "38/38 [==============================] - 5s 127ms/step - loss: 0.0018\n",
            "Epoch 84/100\n",
            "38/38 [==============================] - 4s 99ms/step - loss: 0.0016\n",
            "Epoch 85/100\n",
            "38/38 [==============================] - 4s 100ms/step - loss: 0.0015\n",
            "Epoch 86/100\n",
            "38/38 [==============================] - 5s 127ms/step - loss: 0.0015\n",
            "Epoch 87/100\n",
            "38/38 [==============================] - 4s 98ms/step - loss: 0.0015\n",
            "Epoch 88/100\n",
            "38/38 [==============================] - 4s 97ms/step - loss: 0.0015\n",
            "Epoch 89/100\n",
            "38/38 [==============================] - 5s 127ms/step - loss: 0.0016\n",
            "Epoch 90/100\n",
            "38/38 [==============================] - 4s 99ms/step - loss: 0.0015\n",
            "Epoch 91/100\n",
            "38/38 [==============================] - 4s 98ms/step - loss: 0.0014\n",
            "Epoch 92/100\n",
            "38/38 [==============================] - 5s 129ms/step - loss: 0.0016\n",
            "Epoch 93/100\n",
            "38/38 [==============================] - 4s 100ms/step - loss: 0.0014\n",
            "Epoch 94/100\n",
            "38/38 [==============================] - 4s 98ms/step - loss: 0.0014\n",
            "Epoch 95/100\n",
            "38/38 [==============================] - 5s 126ms/step - loss: 0.0015\n",
            "Epoch 96/100\n",
            "38/38 [==============================] - 4s 98ms/step - loss: 0.0014\n",
            "Epoch 97/100\n",
            "38/38 [==============================] - 4s 98ms/step - loss: 0.0014\n",
            "Epoch 98/100\n",
            "38/38 [==============================] - 5s 120ms/step - loss: 0.0017\n",
            "Epoch 99/100\n",
            "38/38 [==============================] - 4s 103ms/step - loss: 0.0014\n",
            "Epoch 100/100\n",
            "38/38 [==============================] - 4s 98ms/step - loss: 0.0016\n"
          ]
        },
        {
          "output_type": "execute_result",
          "data": {
            "text/plain": [
              "<keras.src.callbacks.History at 0x7a2b6e414400>"
            ]
          },
          "metadata": {},
          "execution_count": 6
        }
      ]
    },
    {
      "cell_type": "code",
      "source": [
        "dataset_test = pd.read_csv('Google_Stock_Price_Test.csv')\n",
        "real_stock_price = dataset_test.iloc[:, 1:2].values"
      ],
      "metadata": {
        "id": "mdX2grN6j8Od"
      },
      "execution_count": 7,
      "outputs": []
    },
    {
      "cell_type": "code",
      "source": [
        "# Getting the predicted stock price of 2017\n",
        "dataset_total = pd.concat((dataset_train['Open'], dataset_test['Open']), axis = 0)\n",
        "inputs = dataset_total[len(dataset_total) - len(dataset_test) - 60:].values\n",
        "inputs = inputs.reshape(-1,1)\n",
        "inputs = sc.transform(inputs)\n",
        "X_test = []\n",
        "for i in range(60, 80):\n",
        "\n",
        "\n",
        "  X_test.append(inputs[i-60:i, 0])\n",
        "X_test = np.array(X_test)\n",
        "X_test = np.reshape(X_test, (X_test.shape[0], X_test.shape[1], 1))\n",
        "predicted_stock_price = regressor.predict(X_test)\n",
        "predicted_stock_price = sc.inverse_transform(predicted_stock_price)"
      ],
      "metadata": {
        "colab": {
          "base_uri": "https://localhost:8080/"
        },
        "id": "3cWJhtSakIe2",
        "outputId": "1427a020-abdd-4aaf-be71-82e81417279a"
      },
      "execution_count": 9,
      "outputs": [
        {
          "output_type": "stream",
          "name": "stdout",
          "text": [
            "1/1 [==============================] - 0s 47ms/step\n"
          ]
        }
      ]
    },
    {
      "cell_type": "code",
      "source": [
        "# Visualising the results\n",
        "plt.plot(real_stock_price, color = 'red', label = 'Real Google Stock Price')\n",
        "plt.plot(predicted_stock_price, color = 'blue', label = 'Predicted Google Stock Price')\n",
        "plt.title('Google Stock Price Prediction')\n",
        "plt.xlabel('Time')\n",
        "plt.ylabel('Google Stock Price')\n",
        "plt.legend()\n",
        "plt.show()"
      ],
      "metadata": {
        "colab": {
          "base_uri": "https://localhost:8080/",
          "height": 472
        },
        "id": "jmFGpQHMkjxb",
        "outputId": "af881fc3-222f-4a02-c3aa-20e6ed3478a7"
      },
      "execution_count": 10,
      "outputs": [
        {
          "output_type": "display_data",
          "data": {
            "text/plain": [
              "<Figure size 640x480 with 1 Axes>"
            ],
            "image/png": "[encoded data removed]"
          },
          "metadata": {}
        }
      ]
    }
  ]
}